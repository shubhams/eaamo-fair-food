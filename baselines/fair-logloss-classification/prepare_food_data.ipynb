{
 "cells": [
  {
   "cell_type": "code",
   "execution_count": 1,
   "metadata": {},
   "outputs": [],
   "source": [
    "from scipy.io import arff\n",
    "from scipy.stats import zscore\n",
    "\n",
    "import numpy as np\n",
    "import pandas as pd\n",
    "import functools\n",
    "import random\n",
    "from sklearn.base import TransformerMixin"
   ]
  },
  {
   "cell_type": "code",
   "execution_count": 2,
   "metadata": {},
   "outputs": [],
   "source": [
    "# filePath = \"../../data/all_data.csv\"\n",
    "RDataHome = \"../../Original-City-Repo/moving_test_window\"\n",
    "ashkanDatasetHomePath = \"./datasets/A,Y,X\""
   ]
  },
  {
   "cell_type": "code",
   "execution_count": 3,
   "metadata": {},
   "outputs": [],
   "source": [
    "def sanitarian_to_binary_association(row):\n",
    "    if row[\"Inspector_purple\"] or row[\"Inspector_blue\"] or row[\"Inspector_orange\"]:\n",
    "        return 1\n",
    "    else:\n",
    "        return 0"
   ]
  },
  {
   "cell_type": "code",
   "execution_count": 4,
   "metadata": {},
   "outputs": [],
   "source": [
    "def demographic_majority(row):\n",
    "    if row[\"White\"] > 0.5:\n",
    "        return 1\n",
    "    else:\n",
    "        return 0"
   ]
  },
  {
   "cell_type": "code",
   "execution_count": 5,
   "metadata": {},
   "outputs": [],
   "source": [
    "def location_majority(row):\n",
    "    # North of Roosevelt\n",
    "    north = [\"60601\",\"60602\",\"60603\",\"60604\",\"60606\",\n",
    "           \"60610\",\"60611\",\"60613\",\"60614\",\n",
    "           \"60618\",\"60621\",\"60622\",\"60625\",\"60626\",\"60630\",\n",
    "           \"60631\",\"60634\",\"60639\",\"60640\",\"60641\",\"60645\",\"60646\",\"60647\",\n",
    "           \"60651\",\"60654\",\"60656\",\"60657\",\"60659\",\"60660\",\n",
    "           \"60661\",\"60666\",\"60707\", \"60178\", \"60107\",\"60642\"]\n",
    "    # South of Roosevelt\n",
    "    south = [\"60605\",\"60607\",\"60608\",\"60609\",\n",
    "           \"60612\",\"60615\",\"60616\",\"60617\",\"60619\",\n",
    "           \"60620\",\"60621\",\"60623\",\"60624\",\"60627\",\"60628\",\"60629\",\n",
    "           \"60632\",\"60633\",\"60635\",\"60636\",\"60637\",\"60638\",\n",
    "           \"60643\",\"60644\",\"60649\",\n",
    "           \"60652\",\"60653\",\"60655\", \"60827\"]\n",
    "    if row[\"Zip\"] in north:\n",
    "        return 1\n",
    "    else:\n",
    "        return 0"
   ]
  },
  {
   "cell_type": "code",
   "execution_count": null,
   "metadata": {},
   "outputs": [],
   "source": [
    "# foodData = pd.read_csv(filePath,sep=',',index_col = 0,header=0)"
   ]
  },
  {
   "cell_type": "code",
   "execution_count": null,
   "metadata": {},
   "outputs": [],
   "source": [
    "# foodData.columns"
   ]
  },
  {
   "cell_type": "code",
   "execution_count": null,
   "metadata": {},
   "outputs": [],
   "source": [
    "# listX = [\"Test\", \"sanitarian\", \"pastSerious\", \"pastCritical\", \"timeSinceLast\", \"ageAtInspection\",\n",
    "#          \"consumption_on_premises_incidental_activity\", \"tobacco\", \"temperatureMax\", \"heat_burglary\", \n",
    "#          \"heat_sanitation\", \"heat_garbage\"]\n",
    "\n",
    "# ## R code pre-processing\n",
    "# foodDataX = foodData.filter(listX, axis=1)\n",
    "# foodDataX[\"pastSerious\"].clip(upper=1, inplace=True)\n",
    "# foodDataX[\"pastCritical\"].clip(upper=1, inplace=True)\n",
    "# foodDataX[\"heat_burglary\"].clip(upper=70, inplace=True)\n",
    "# foodDataX[\"heat_sanitation\"].clip(upper=70, inplace=True)\n",
    "# foodDataX[\"heat_garbage\"].clip(upper=50, inplace=True)\n",
    "\n",
    "# foodDataX[\"ageAtInspection\"] = foodDataX[\"ageAtInspection\"].apply(lambda x: 1 if x > 4 else 0)\n",
    "\n",
    "# sanitarian_one_hot = pd.get_dummies(foodDataX[\"sanitarian\"], prefix=\"Inspector\", prefix_sep=\"_\")\n",
    "# foodDataX = foodDataX.join(sanitarian_one_hot)\n",
    "# foodDataX.drop(\"sanitarian\", axis = 1, inplace=True)\n",
    "\n",
    "# # Log-loss paper pre-processing\n",
    "# continuous_val_cols = [\"timeSinceLast\",\"temperatureMax\",\"heat_burglary\",\"heat_sanitation\",\"heat_garbage\"]\n",
    "# foodDataX[continuous_val_cols] = foodDataX[continuous_val_cols].apply(zscore)"
   ]
  },
  {
   "cell_type": "code",
   "execution_count": null,
   "metadata": {},
   "outputs": [],
   "source": [
    "# foodDataX.head()"
   ]
  },
  {
   "cell_type": "code",
   "execution_count": null,
   "metadata": {},
   "outputs": [],
   "source": [
    "# foodDataY = foodData.filter([\"criticalFound\"], axis=1)\n",
    "# foodDataY"
   ]
  },
  {
   "cell_type": "code",
   "execution_count": null,
   "metadata": {},
   "outputs": [],
   "source": [
    "# foodDataA = foodDataX.apply(lambda row: sanitarian_to_binary_association(row), axis = 1)\n",
    "\n",
    "# foodDataSantarianBlue = foodDataX.filter([\"Inspector_blue\"], axis=1)\n",
    "# foodDataSantarianBrown = foodDataX.filter([\"Inspector_brown\"], axis=1)\n",
    "# foodDataSantarianGreen = foodDataX.filter([\"Inspector_green\"], axis=1)\n",
    "# foodDataSantarianOrange = foodDataX.filter([\"Inspector_orange\"], axis=1)\n",
    "# foodDataSantarianPurple = foodDataX.filter([\"Inspector_purple\"], axis=1)\n",
    "# foodDataSantarianYellow = foodDataX.filter([\"Inspector_yellow\"], axis=1)\n",
    "\n",
    "# foodDataA[\"sanitarian\"].unique()\n",
    "# sanitarian_to_num_map = {\n",
    "#     \"green\": 0,\n",
    "#     \"blue\":1,\n",
    "#     \"orange\":2,\n",
    "#     \"purple\":3,\n",
    "#     \"brown\":4,\n",
    "#     \"yellow\":5\n",
    "# }\n",
    "# foodDataA[\"sanitarian\"].replace(sanitarian_to_num_map, inplace=True)"
   ]
  },
  {
   "cell_type": "code",
   "execution_count": null,
   "metadata": {},
   "outputs": [],
   "source": [
    "# foodDataSantarianBlue"
   ]
  },
  {
   "cell_type": "code",
   "execution_count": null,
   "metadata": {},
   "outputs": [],
   "source": [
    "# # Save CSV files\n",
    "# foodDataX.to_csv(f\"{ashkanDatasetHomePath}/Food_inspection/Food_inspection_X.csv\", index=False)\n",
    "# foodDataY.to_csv(f\"{ashkanDatasetHomePath}/Food_inspection/Food_inspection_Y.csv\", index=False)\n",
    "\n",
    "# sanitarian_colors = [\"blue\", \"brown\", \"green\", \"orange\", \"purple\", \"yellow\"]\n",
    "# for color in sanitarian_colors:\n",
    "#     foodDataX.filter([\"Inspector_blue\"], axis=1).to_csv(f\"{ashkanDatasetHomePath}/Food_inspection/Food_inspection_A_{color}.csv\", index=False)"
   ]
  },
  {
   "cell_type": "code",
   "execution_count": null,
   "metadata": {},
   "outputs": [],
   "source": [
    "# perm_list = list()\n",
    "# for i in range(20):\n",
    "#     range_list = list(range(0, len(foodDataX)))\n",
    "#     random.shuffle(range_list)\n",
    "#     perm_list.append(range_list)\n",
    "# print(len(perm_list))\n",
    "# perm_arr = np.asarray(perm_list)\n",
    "# print(perm_arr.shape)"
   ]
  },
  {
   "cell_type": "code",
   "execution_count": null,
   "metadata": {},
   "outputs": [],
   "source": [
    "# # Save perm as CSV\n",
    "# np.savetxt(f\"{ashkanDatasetHomePath}/Food_inspection/Food_perm.csv\", perm_arr, delimiter=\",\")"
   ]
  },
  {
   "cell_type": "code",
   "execution_count": null,
   "metadata": {},
   "outputs": [],
   "source": []
  },
  {
   "cell_type": "code",
   "execution_count": null,
   "metadata": {},
   "outputs": [],
   "source": [
    "# dataX = pd.read_csv(ashkanDatasetHomePath + '/IBM_Adult/IBM_adult_X.csv',sep='\\t',index_col = 0,header=None)\n",
    "# dataX = pd.read_csv(\"../fair-logloss-classification/datasets/A,Y,X/Food_inspection/Food_inspection_X.csv\")"
   ]
  },
  {
   "cell_type": "code",
   "execution_count": null,
   "metadata": {},
   "outputs": [],
   "source": [
    "# dataX"
   ]
  },
  {
   "cell_type": "code",
   "execution_count": null,
   "metadata": {},
   "outputs": [],
   "source": [
    "# dataA = pd.read_csv(ashkanDatasetHomePath + '/IBM_compas/IBM_compas_A.csv',sep='\\t',index_col = 0,header=None)\n",
    "# perm = np.genfromtxt(ashkanDatasetHomePath + '/IBM_compas/compas_perm.csv', delimiter=',')"
   ]
  },
  {
   "cell_type": "code",
   "execution_count": null,
   "metadata": {},
   "outputs": [],
   "source": [
    "# print(perm.shape)\n",
    "# print(np.min(perm[0]))\n",
    "# print(np.max(perm[0]))"
   ]
  },
  {
   "cell_type": "code",
   "execution_count": null,
   "metadata": {},
   "outputs": [],
   "source": [
    "# perm_list = list()\n",
    "# for i in range(20):\n",
    "#     range_list = list(range(0, len(foodDataX)))\n",
    "#     random.shuffle(range_list)\n",
    "#     perm_list.append(range_list)\n",
    "# print(len(perm_list))\n",
    "# perm_arr = np.asarray(perm_list)\n",
    "# print(perm_arr.shape)"
   ]
  },
  {
   "cell_type": "code",
   "execution_count": null,
   "metadata": {},
   "outputs": [],
   "source": [
    "# foodData[\"glm_pred_test\"].min()"
   ]
  },
  {
   "cell_type": "markdown",
   "metadata": {},
   "source": [
    "### hole in one"
   ]
  },
  {
   "cell_type": "code",
   "execution_count": 7,
   "metadata": {},
   "outputs": [
    {
     "name": "stdout",
     "output_type": "stream",
     "text": [
      "../../Original-City-Repo/moving_test_window/30_dat_0.csv\n",
      "../../Original-City-Repo/moving_test_window/30_dat_1.csv\n",
      "../../Original-City-Repo/moving_test_window/30_dat_2.csv\n",
      "../../Original-City-Repo/moving_test_window/30_dat_3.csv\n",
      "../../Original-City-Repo/moving_test_window/30_dat_4.csv\n",
      "../../Original-City-Repo/moving_test_window/30_dat_5.csv\n",
      "../../Original-City-Repo/moving_test_window/30_dat_6.csv\n",
      "../../Original-City-Repo/moving_test_window/30_dat_7.csv\n",
      "../../Original-City-Repo/moving_test_window/30_dat_8.csv\n",
      "../../Original-City-Repo/moving_test_window/30_dat_9.csv\n",
      "../../Original-City-Repo/moving_test_window/30_dat_10.csv\n",
      "../../Original-City-Repo/moving_test_window/30_dat_11.csv\n",
      "../../Original-City-Repo/moving_test_window/30_dat_12.csv\n",
      "../../Original-City-Repo/moving_test_window/30_dat_13.csv\n",
      "../../Original-City-Repo/moving_test_window/30_dat_14.csv\n",
      "../../Original-City-Repo/moving_test_window/30_dat_15.csv\n",
      "../../Original-City-Repo/moving_test_window/30_dat_16.csv\n",
      "../../Original-City-Repo/moving_test_window/30_dat_17.csv\n",
      "../../Original-City-Repo/moving_test_window/30_dat_18.csv\n"
     ]
    }
   ],
   "source": [
    "# \"san_maj\",\"race_maj\",\"loc_maj\"\n",
    "majority = \"loc_maj\"\n",
    "\n",
    "for ctr in range(19):\n",
    "    filePath = f\"{RDataHome}/30_dat_{ctr}.csv\"\n",
    "    print(filePath)\n",
    "    foodData = pd.read_csv(filePath, sep=',', index_col=0, header=0, dtype={\"Zip\":str})\n",
    "    \n",
    "    listX = [\"Test\", \"sanitarian\", \"pastSerious\", \"pastCritical\", \"timeSinceLast\", \"ageAtInspection\",\n",
    "         \"consumption_on_premises_incidental_activity\", \"tobacco\", \"temperatureMax\", \"heat_burglary\", \n",
    "         \"heat_sanitation\", \"heat_garbage\"]\n",
    "\n",
    "    ## R code pre-processing\n",
    "    foodDataX = foodData.filter(listX, axis=1)\n",
    "    foodDataX[\"pastSerious\"].clip(upper=1, inplace=True)\n",
    "    foodDataX[\"pastCritical\"].clip(upper=1, inplace=True)\n",
    "    foodDataX[\"heat_burglary\"].clip(upper=70, inplace=True)\n",
    "    foodDataX[\"heat_sanitation\"].clip(upper=70, inplace=True)\n",
    "    foodDataX[\"heat_garbage\"].clip(upper=50, inplace=True)\n",
    "\n",
    "    foodDataX[\"ageAtInspection\"] = foodDataX[\"ageAtInspection\"].apply(lambda x: 1 if x > 4 else 0)\n",
    "\n",
    "    sanitarian_one_hot = pd.get_dummies(foodDataX[\"sanitarian\"], prefix=\"Inspector\", prefix_sep=\"_\")\n",
    "    foodDataX = foodDataX.join(sanitarian_one_hot)\n",
    "    foodDataX.drop(\"sanitarian\", axis = 1, inplace=True)\n",
    "\n",
    "    # Log-loss paper pre-processing\n",
    "    continuous_val_cols = [\"timeSinceLast\",\"temperatureMax\",\"heat_burglary\",\"heat_sanitation\",\"heat_garbage\"]\n",
    "    foodDataX[continuous_val_cols] = foodDataX[continuous_val_cols].apply(zscore)\n",
    "    \n",
    "    foodDataY = foodData.filter([\"criticalFound\"], axis=1)\n",
    "    \n",
    "    foodDataX.to_csv(f\"{ashkanDatasetHomePath}/Food_inspection/Food_inspection_X_{ctr}_{majority}.csv\", index=False)\n",
    "    foodDataY.to_csv(f\"{ashkanDatasetHomePath}/Food_inspection/Food_inspection_Y_{ctr}_{majority}.csv\", index=False)\n",
    "    \n",
    "    # high violation-rate sanitarian majority\n",
    "    if majority == \"san_maj\":\n",
    "        foodDataA = foodDataX.apply(lambda row: sanitarian_to_binary_association(row), axis = 1)\n",
    "    # white majority\n",
    "    elif majority == \"race_maj\":\n",
    "        foodDataA = foodData.apply(lambda row: demographic_majority(row), axis = 1)\n",
    "    # north majority\n",
    "    else:\n",
    "        foodDataA = foodData.apply(lambda row: location_majority(row), axis = 1)\n",
    "    foodDataA.to_csv(f\"{ashkanDatasetHomePath}/Food_inspection/Food_inspection_A_{ctr}_{majority}.csv\", index=False)"
   ]
  },
  {
   "cell_type": "code",
   "execution_count": 11,
   "metadata": {},
   "outputs": [],
   "source": [
    "# tested\n",
    "foodDataNew = foodData.apply(lambda row: demographic_majority(row), axis = 1)"
   ]
  },
  {
   "cell_type": "code",
   "execution_count": 15,
   "metadata": {},
   "outputs": [
    {
     "data": {
      "text/plain": [
       "667    1\n",
       "668    1\n",
       "669    1\n",
       "670    1\n",
       "671    1\n",
       "672    1\n",
       "673    1\n",
       "674    1\n",
       "675    1\n",
       "676    1\n",
       "677    1\n",
       "678    0\n",
       "679    1\n",
       "680    1\n",
       "681    1\n",
       "682    1\n",
       "683    1\n",
       "684    0\n",
       "685    0\n",
       "686    1\n",
       "687    1\n",
       "688    0\n",
       "689    0\n",
       "690    1\n",
       "691    1\n",
       "692    1\n",
       "693    1\n",
       "694    0\n",
       "695    0\n",
       "696    1\n",
       "697    0\n",
       "698    0\n",
       "699    0\n",
       "700    0\n",
       "dtype: int64"
      ]
     },
     "execution_count": 15,
     "metadata": {},
     "output_type": "execute_result"
    }
   ],
   "source": [
    "foodDataNew[666:700]"
   ]
  },
  {
   "cell_type": "code",
   "execution_count": 25,
   "metadata": {},
   "outputs": [
    {
     "data": {
      "text/plain": [
       "667    0.679779\n",
       "668    0.679779\n",
       "669    0.769784\n",
       "670    0.511804\n",
       "671    0.760434\n",
       "672    0.546099\n",
       "673    0.545501\n",
       "674    0.679779\n",
       "675    0.612043\n",
       "676    0.727825\n",
       "677    0.643531\n",
       "678    0.464490\n",
       "679    0.643531\n",
       "680    0.833992\n",
       "681    0.833992\n",
       "682    0.612043\n",
       "683    0.546099\n",
       "684    0.108367\n",
       "685    0.108367\n",
       "686    0.545501\n",
       "687    0.679779\n",
       "688    0.108367\n",
       "689    0.108367\n",
       "690    0.784127\n",
       "691    0.691843\n",
       "692    0.727825\n",
       "693    0.558362\n",
       "694    0.108367\n",
       "695    0.108367\n",
       "696    0.587952\n",
       "697    0.000000\n",
       "698    0.108367\n",
       "699    0.108367\n",
       "700    0.108367\n",
       "Name: White, dtype: float64"
      ]
     },
     "execution_count": 25,
     "metadata": {},
     "output_type": "execute_result"
    }
   ],
   "source": [
    "foodData.loc[foodData.index[666:700], \"White\"]"
   ]
  },
  {
   "cell_type": "code",
   "execution_count": 19,
   "metadata": {},
   "outputs": [
    {
     "data": {
      "text/plain": [
       "Index(['Inspection_ID', 'Inspection_Date', 'DBA_Name', 'AKA_Name', 'License',\n",
       "       'Facility_Type', 'Risk', 'Address', 'City', 'State', 'Zip',\n",
       "       'Inspection_Type', 'Results', 'Latitude', 'Longitude', 'Location',\n",
       "       'Facility_Type_Clean', 'criticalCount', 'seriousCount', 'minorCount',\n",
       "       'pass_flag', 'fail_flag', 'pastFail', 'pastCritical', 'pastSerious',\n",
       "       'pastMinor', 'timeSinceLast', 'firstRecord', 'ID', 'LICENSE_ID',\n",
       "       'ACCOUNT_NUMBER', 'LEGAL_NAME', 'DOING_BUSINESS_AS_NAME', 'ADDRESS',\n",
       "       'CITY', 'STATE', 'ZIP_CODE', 'WARD', 'PRECINCT', 'WARD_PRECINCT',\n",
       "       'POLICE_DISTRICT', 'LICENSE_CODE', 'LICENSE_DESCRIPTION',\n",
       "       'BUSINESS_ACTIVITY_ID', 'BUSINESS_ACTIVITY', 'LICENSE_NUMBER',\n",
       "       'APPLICATION_TYPE', 'LICENSE_TERM_START_DATE',\n",
       "       'LICENSE_TERM_EXPIRATION_DATE', 'LICENSE_STATUS', 'LATITUDE',\n",
       "       'LONGITUDE', 'minDate', 'maxDate', 'ageAtInspection',\n",
       "       'consumption_on_premises_incidental_activity', 'tobacco',\n",
       "       'package_goods', 'outdoor_patio', 'public_place_of_amusement',\n",
       "       'limited_business_license', 'childrens_services_facility_license',\n",
       "       'tavern', 'regulated_business_license', 'filling_station',\n",
       "       'caterers_liquor_license', 'mobile_food_license', 'Total', 'White',\n",
       "       'Black', 'American_Indian', 'Asian', 'Hispanic', 'Others',\n",
       "       'Total_Age_and_Gender', 'Total_Male', 'Total_Female', 'Male_Under_18',\n",
       "       'Male_Under_50', 'Male_50_And_Above', 'Female_Under_18',\n",
       "       'Female_Under_50', 'Female_50_And_Above', 'All_Under_18',\n",
       "       'All_Under_50', 'All_50_And_Above', 'sanitarian', 'precipIntensity',\n",
       "       'temperatureMax', 'windSpeed', 'humidity', 'heat_burglary',\n",
       "       'heat_garbage', 'heat_sanitation', 'criticalFound', 'Test', 'glm_pred',\n",
       "       'glm_pred_test'],\n",
       "      dtype='object')"
      ]
     },
     "execution_count": 19,
     "metadata": {},
     "output_type": "execute_result"
    }
   ],
   "source": [
    "foodData.columns"
   ]
  },
  {
   "cell_type": "code",
   "execution_count": 30,
   "metadata": {},
   "outputs": [],
   "source": [
    "foodDataLoc = foodData.apply(lambda row: location_majority(row), axis = 1)"
   ]
  },
  {
   "cell_type": "code",
   "execution_count": 39,
   "metadata": {},
   "outputs": [
    {
     "data": {
      "text/plain": [
       "951     1\n",
       "952     1\n",
       "953     1\n",
       "954     1\n",
       "955     1\n",
       "956     1\n",
       "957     1\n",
       "958     1\n",
       "959     1\n",
       "960     1\n",
       "961     1\n",
       "962     1\n",
       "963     1\n",
       "964     1\n",
       "965     1\n",
       "966     1\n",
       "967     1\n",
       "968     1\n",
       "969     1\n",
       "970     1\n",
       "971     1\n",
       "972     1\n",
       "973     1\n",
       "974     1\n",
       "975     1\n",
       "976     1\n",
       "977     1\n",
       "978     1\n",
       "979     1\n",
       "980     1\n",
       "981     1\n",
       "982     1\n",
       "983     1\n",
       "984     1\n",
       "985     1\n",
       "986     1\n",
       "987     1\n",
       "988     0\n",
       "989     0\n",
       "990     0\n",
       "991     0\n",
       "992     0\n",
       "993     0\n",
       "994     0\n",
       "995     0\n",
       "996     0\n",
       "997     0\n",
       "998     0\n",
       "999     0\n",
       "1000    0\n",
       "dtype: int64"
      ]
     },
     "execution_count": 39,
     "metadata": {},
     "output_type": "execute_result"
    }
   ],
   "source": [
    "foodDataLoc[950:1000]\n",
    "# foodDataLoc.value_counts()"
   ]
  },
  {
   "cell_type": "code",
   "execution_count": 40,
   "metadata": {},
   "outputs": [
    {
     "data": {
      "text/plain": [
       "951     60654\n",
       "952     60654\n",
       "953     60654\n",
       "954     60654\n",
       "955     60654\n",
       "956     60654\n",
       "957     60654\n",
       "958     60654\n",
       "959     60654\n",
       "960     60654\n",
       "961     60654\n",
       "962     60654\n",
       "963     60654\n",
       "964     60654\n",
       "965     60654\n",
       "966     60610\n",
       "967     60611\n",
       "968     60611\n",
       "969     60601\n",
       "970     60603\n",
       "971     60603\n",
       "972     60602\n",
       "973     60602\n",
       "974     60602\n",
       "975     60601\n",
       "976     60601\n",
       "977     60601\n",
       "978     60601\n",
       "979     60601\n",
       "980     60601\n",
       "981     60602\n",
       "982     60602\n",
       "983     60602\n",
       "984     60603\n",
       "985     60603\n",
       "986     60602\n",
       "987     60602\n",
       "988     60655\n",
       "989     60655\n",
       "990     60652\n",
       "991     60655\n",
       "992     60629\n",
       "993     60655\n",
       "994     60655\n",
       "995     60655\n",
       "996     60655\n",
       "997     60652\n",
       "998     60629\n",
       "999     60655\n",
       "1000    60629\n",
       "Name: Zip, dtype: object"
      ]
     },
     "execution_count": 40,
     "metadata": {},
     "output_type": "execute_result"
    }
   ],
   "source": [
    "foodData.loc[foodData.index[950:1000], \"Zip\"]"
   ]
  },
  {
   "cell_type": "code",
   "execution_count": null,
   "metadata": {},
   "outputs": [],
   "source": []
  }
 ],
 "metadata": {
  "kernelspec": {
   "display_name": "Python 3",
   "language": "python",
   "name": "python3"
  },
  "language_info": {
   "codemirror_mode": {
    "name": "ipython",
    "version": 3
   },
   "file_extension": ".py",
   "mimetype": "text/x-python",
   "name": "python",
   "nbconvert_exporter": "python",
   "pygments_lexer": "ipython3",
   "version": "3.6.10"
  }
 },
 "nbformat": 4,
 "nbformat_minor": 4
}
