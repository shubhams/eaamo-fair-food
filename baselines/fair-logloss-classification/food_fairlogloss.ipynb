{
 "cells": [
  {
   "cell_type": "code",
   "execution_count": 13,
   "metadata": {},
   "outputs": [],
   "source": [
    "from __future__ import print_function\n",
    "from scipy.io import arff\n",
    "from prepare_data import prepare_food\n",
    "from IPython.display import clear_output\n",
    "\n",
    "import functools\n",
    "import numpy as np\n",
    "import pandas as pd\n",
    "import sys\n",
    "from fair_logloss import DP_fair_logloss_classifier, EOPP_fair_logloss_classifier, EODD_fair_logloss_classifier"
   ]
  },
  {
   "cell_type": "code",
   "execution_count": 14,
   "metadata": {},
   "outputs": [],
   "source": [
    "def compute_error(Yhat,proba,Y):\n",
    "    err = 1 - np.sum(Yhat == Y) / Y.shape[0] \n",
    "    exp_zeroone = np.mean(np.where(Y == 1 , 1 - proba, proba))\n",
    "    return err, exp_zeroone"
   ]
  },
  {
   "cell_type": "code",
   "execution_count": 15,
   "metadata": {},
   "outputs": [],
   "source": [
    "def train_and_write_score(criteria, majority, C):\n",
    "    expected_test_err_list = list()\n",
    "    fairness_violation_list = list()\n",
    "    for window in range(19):\n",
    "\n",
    "        dataA,dataY,dataX = prepare_food(window=window, majority=majority)\n",
    "        dataset = 'food'\n",
    "\n",
    "        if criteria == 'dp':\n",
    "            h = DP_fair_logloss_classifier(C=C, random_initialization=True, verbose=False)\n",
    "        elif criteria == 'eqopp':\n",
    "            h = EOPP_fair_logloss_classifier(C=C, random_initialization=True, verbose=False)\n",
    "        elif criteria == 'eqodd':\n",
    "            h = EODD_fair_logloss_classifier(C=C, random_initialization=True, verbose=False)    \n",
    "        else:\n",
    "            raise ValueError('Invalid second arg')\n",
    "\n",
    "        tr_idx = dataX.index[dataX['Test'] == False].tolist()\n",
    "        ts_idx = dataX.index[dataX['Test'] == True].tolist()\n",
    "        dataX.drop(columns=[\"Test\"], inplace=True)\n",
    "        tr_X = dataX.reindex(tr_idx)\n",
    "        ts_X = dataX.reindex(ts_idx)\n",
    "\n",
    "        tr_A = dataA.reindex(tr_X.index)\n",
    "        ts_A = dataA.reindex(ts_X.index)\n",
    "        tr_Y = dataY.reindex(tr_X.index)\n",
    "        ts_Y = dataY.reindex(ts_X.index)\n",
    "\n",
    "        if include_A:\n",
    "            tr_X = pd.concat([tr_X, tr_A], axis=1)\n",
    "            ts_X = pd.concat([ts_X, ts_A], axis=1)\n",
    "            dataX = pd.concat([dataX, dataA], axis=1)\n",
    "\n",
    "        for c in list(tr_X.columns):\n",
    "            if tr_X[c].min() < 0 or tr_X[c].max() > 1:\n",
    "                mu = tr_X[c].mean()\n",
    "                s = tr_X[c].std(ddof=0)\n",
    "                tr_X.loc[:,c] = (tr_X[c] - mu) / s\n",
    "                ts_X.loc[:,c] = (ts_X[c] - mu) / s\n",
    "\n",
    "        h.fit(tr_X.values,tr_Y.values,tr_A.values)\n",
    "        exp_zo_tr = h.expected_error(tr_X.values, tr_Y.values, tr_A.values)\n",
    "        exp_zo_ts = h.expected_error(ts_X.values, ts_Y.values, ts_A.values)\n",
    "        err_tr = 1 - h.score(tr_X.values, tr_Y.values, tr_A.values)\n",
    "        err_ts = 1 - h.score(ts_X.values, ts_Y.values, ts_A.values)\n",
    "        violation_tr = h.fairness_violation(tr_X.values, tr_Y.values, tr_A.values)\n",
    "        violation_ts = h.fairness_violation(ts_X.values, ts_Y.values, ts_A.values)\n",
    "        \n",
    "        expected_test_err_list.append(exp_zo_ts)\n",
    "        fairness_violation_list.append(violation_ts)\n",
    "        \n",
    "        print(\"---------------------------- Random Split: %d ----------------------------------\" % window)\n",
    "        print(\"Train - predict_err : {:.3f} \\t expected_err : {:.3f} \\t fair_violation : {:.3f} \".format(err_tr, exp_zo_tr,violation_tr))\n",
    "        print(\"Test  - predict_err : {:.3f} \\t expected_err : {:.3f} \\t fair_violation : {:.3f} \".format(err_ts, exp_zo_ts,violation_ts))\n",
    "        print(\"\")\n",
    "        predicted_scores = h.predict_proba(dataX.values, dataA.values)\n",
    "\n",
    "        np.savetxt(f\"./results/scores_{window}_{criteria}_{majority}_{C}.csv\", predicted_scores, delimiter=\",\")\n",
    "    d = {\"expected test error\": expected_test_err_list, \"fair violation\": fairness_violation_list}\n",
    "    return pd.DataFrame(data=d)"
   ]
  },
  {
   "cell_type": "code",
   "execution_count": 16,
   "metadata": {},
   "outputs": [
    {
     "name": "stdout",
     "output_type": "stream",
     "text": [
      "eqopp san_maj 0.5\n",
      "---------------------------- Random Split: 0 ----------------------------------\n",
      "Train - predict_err : 0.141 \t expected_err : 0.380 \t fair_violation : 0.000 \n",
      "Test  - predict_err : 0.158 \t expected_err : 0.387 \t fair_violation : 0.001 \n",
      "\n",
      "---------------------------- Random Split: 1 ----------------------------------\n",
      "Train - predict_err : 0.142 \t expected_err : 0.379 \t fair_violation : 0.000 \n",
      "Test  - predict_err : nan \t expected_err : nan \t fair_violation : nan \n",
      "\n",
      "---------------------------- Random Split: 2 ----------------------------------\n",
      "Train - predict_err : 0.142 \t expected_err : 0.380 \t fair_violation : 0.000 \n",
      "Test  - predict_err : nan \t expected_err : nan \t fair_violation : nan \n",
      "\n",
      "---------------------------- Random Split: 3 ----------------------------------\n",
      "Train - predict_err : 0.140 \t expected_err : 0.378 \t fair_violation : 0.000 \n",
      "Test  - predict_err : 0.185 \t expected_err : 0.393 \t fair_violation : 0.000 \n",
      "\n",
      "---------------------------- Random Split: 4 ----------------------------------\n",
      "Train - predict_err : 0.142 \t expected_err : 0.379 \t fair_violation : 0.000 \n",
      "Test  - predict_err : 0.153 \t expected_err : 0.377 \t fair_violation : 0.003 \n",
      "\n",
      "---------------------------- Random Split: 5 ----------------------------------\n",
      "Train - predict_err : 0.146 \t expected_err : 0.382 \t fair_violation : 0.000 \n",
      "Test  - predict_err : 0.091 \t expected_err : 0.361 \t fair_violation : 0.003 \n",
      "\n",
      "---------------------------- Random Split: 6 ----------------------------------\n",
      "Train - predict_err : 0.143 \t expected_err : 0.380 \t fair_violation : 0.000 \n",
      "Test  - predict_err : 0.131 \t expected_err : 0.377 \t fair_violation : 0.003 \n",
      "\n",
      "---------------------------- Random Split: 7 ----------------------------------\n",
      "Train - predict_err : 0.141 \t expected_err : 0.378 \t fair_violation : 0.000 \n",
      "Test  - predict_err : 0.165 \t expected_err : 0.388 \t fair_violation : 0.001 \n",
      "\n",
      "---------------------------- Random Split: 8 ----------------------------------\n",
      "Train - predict_err : 0.140 \t expected_err : 0.378 \t fair_violation : 0.000 \n",
      "Test  - predict_err : 0.168 \t expected_err : 0.389 \t fair_violation : 0.001 \n",
      "\n",
      "---------------------------- Random Split: 9 ----------------------------------\n",
      "Train - predict_err : 0.144 \t expected_err : 0.380 \t fair_violation : 0.000 \n",
      "Test  - predict_err : 0.121 \t expected_err : 0.373 \t fair_violation : 0.007 \n",
      "\n",
      "---------------------------- Random Split: 10 ----------------------------------\n",
      "Train - predict_err : 0.144 \t expected_err : 0.380 \t fair_violation : 0.000 \n",
      "Test  - predict_err : 0.124 \t expected_err : 0.373 \t fair_violation : 0.001 \n",
      "\n",
      "---------------------------- Random Split: 11 ----------------------------------\n",
      "Train - predict_err : 0.143 \t expected_err : 0.380 \t fair_violation : 0.000 \n",
      "Test  - predict_err : 0.121 \t expected_err : 0.372 \t fair_violation : 0.003 \n",
      "\n",
      "---------------------------- Random Split: 12 ----------------------------------\n",
      "Train - predict_err : 0.142 \t expected_err : 0.379 \t fair_violation : 0.000 \n",
      "Test  - predict_err : 0.155 \t expected_err : 0.382 \t fair_violation : 0.000 \n",
      "\n",
      "---------------------------- Random Split: 13 ----------------------------------\n",
      "Train - predict_err : 0.141 \t expected_err : 0.379 \t fair_violation : 0.000 \n",
      "Test  - predict_err : 0.166 \t expected_err : 0.389 \t fair_violation : 0.003 \n",
      "\n",
      "---------------------------- Random Split: 14 ----------------------------------\n",
      "Train - predict_err : 0.142 \t expected_err : 0.379 \t fair_violation : 0.000 \n",
      "Test  - predict_err : 0.155 \t expected_err : 0.385 \t fair_violation : 0.001 \n",
      "\n",
      "---------------------------- Random Split: 15 ----------------------------------\n",
      "Train - predict_err : 0.142 \t expected_err : 0.379 \t fair_violation : 0.000 \n",
      "Test  - predict_err : 0.139 \t expected_err : 0.379 \t fair_violation : 0.007 \n",
      "\n",
      "---------------------------- Random Split: 16 ----------------------------------\n",
      "Train - predict_err : 0.142 \t expected_err : 0.379 \t fair_violation : 0.000 \n",
      "Test  - predict_err : 0.140 \t expected_err : 0.378 \t fair_violation : 0.003 \n",
      "\n",
      "---------------------------- Random Split: 17 ----------------------------------\n",
      "Train - predict_err : 0.144 \t expected_err : 0.381 \t fair_violation : 0.000 \n",
      "Test  - predict_err : 0.114 \t expected_err : 0.369 \t fair_violation : 0.001 \n",
      "\n",
      "---------------------------- Random Split: 18 ----------------------------------\n",
      "Train - predict_err : 0.144 \t expected_err : 0.380 \t fair_violation : 0.000 \n",
      "Test  - predict_err : 0.116 \t expected_err : 0.371 \t fair_violation : 0.000 \n",
      "\n"
     ]
    }
   ],
   "source": [
    "# sanitarian_color = \"blue\"  # \"blue\", \"brown\", \"green\", \"orange\", \"purple\", \"yellow\"\n",
    "criteria_list = [\"dp\",\"eqopp\"]  # \"dp\",\"eqopp\",\"eqodd\"\n",
    "majority_list = [\"san_maj\"] # \"san_maj\",\"race_maj\",\"loc_maj\"\n",
    "C_list = [0.001, 0.005, 0.01, 0.05, 0.1, 0.2, 0.3, 0.4, 0.5]\n",
    "include_A = [False]\n",
    "\n",
    "df_dict = dict()\n",
    "\n",
    "for criteria in criteria_list:\n",
    "    for majority in majority_list:\n",
    "        for C in C_list:\n",
    "            clear_output(wait=True)\n",
    "            print(criteria, majority, C)\n",
    "            df = train_and_write_score(criteria, majority, C)\n",
    "            df_dict[f\"{criteria}_{majority}_{C}\"] = df"
   ]
  },
  {
   "cell_type": "code",
   "execution_count": 50,
   "metadata": {},
   "outputs": [],
   "source": [
    "from collections import defaultdict\n",
    "\n",
    "stats_dict = defaultdict(lambda: dict())\n",
    "\n",
    "for key, val in df_dict.items():\n",
    "    err_stats = dict()\n",
    "    err_stats['mean'] = val[\"expected test error\"].mean(skipna=True)\n",
    "    err_stats['stderr'] = val[\"expected test error\"].sem(skipna=True)\n",
    "    \n",
    "    fair_stats = dict()\n",
    "    fair_stats['mean'] = val[\"fair violation\"].mean(skipna=True)\n",
    "    fair_stats['stderr'] = val[\"fair violation\"].sem(skipna=True)\n",
    "\n",
    "    stats_dict[key]['err_stats'] = err_stats\n",
    "    stats_dict[key]['fair_stats'] = fair_stats"
   ]
  },
  {
   "cell_type": "code",
   "execution_count": 51,
   "metadata": {},
   "outputs": [
    {
     "data": {
      "text/plain": [
       "{'dp_san_maj_0.001': {'err_stats': {'mean': 0.27546058320648265,\n",
       "   'stderr': 0.006069441675317801},\n",
       "  'fair_stats': {'mean': 0.007941602399467246,\n",
       "   'stderr': 0.0015409389970712705}},\n",
       " 'dp_san_maj_0.005': {'err_stats': {'mean': 0.2796845353952941,\n",
       "   'stderr': 0.004746255844692878},\n",
       "  'fair_stats': {'mean': 0.006526432107955042,\n",
       "   'stderr': 0.0013272671804977776}},\n",
       " 'dp_san_maj_0.01': {'err_stats': {'mean': 0.28173704261542043,\n",
       "   'stderr': 0.0052783076105367786},\n",
       "  'fair_stats': {'mean': 0.007190004746115384,\n",
       "   'stderr': 0.0012998740182790453}},\n",
       " 'dp_san_maj_0.05': {'err_stats': {'mean': 0.30252291228032596,\n",
       "   'stderr': 0.003749456169735951},\n",
       "  'fair_stats': {'mean': 0.0041682078119871435,\n",
       "   'stderr': 0.000707011767137094}},\n",
       " 'dp_san_maj_0.1': {'err_stats': {'mean': 0.31377427047506484,\n",
       "   'stderr': 0.0033507771382810404},\n",
       "  'fair_stats': {'mean': 0.002585450409823827,\n",
       "   'stderr': 0.000510132844456068}},\n",
       " 'dp_san_maj_0.2': {'err_stats': {'mean': 0.3360631466721985,\n",
       "   'stderr': 0.0026410718156216328},\n",
       "  'fair_stats': {'mean': 0.002872240362016302,\n",
       "   'stderr': 0.0005155303488372754}},\n",
       " 'dp_san_maj_0.3': {'err_stats': {'mean': 0.3615240418109137,\n",
       "   'stderr': 0.003170856600986409},\n",
       "  'fair_stats': {'mean': 0.002041579427950733,\n",
       "   'stderr': 0.0003180868875269236}},\n",
       " 'dp_san_maj_0.4': {'err_stats': {'mean': 0.37751673642735245,\n",
       "   'stderr': 0.002312460887897885},\n",
       "  'fair_stats': {'mean': 0.00218764288914318,\n",
       "   'stderr': 0.0003607032151244092}},\n",
       " 'dp_san_maj_0.5': {'err_stats': {'mean': 0.3963292021227134,\n",
       "   'stderr': 0.003119815000897796},\n",
       "  'fair_stats': {'mean': 0.0019405341596659932,\n",
       "   'stderr': 0.00028093328270834456}},\n",
       " 'eqopp_san_maj_0.001': {'err_stats': {'mean': 0.2310522734620328,\n",
       "   'stderr': 0.005108910256761529},\n",
       "  'fair_stats': {'mean': 0.14809541929323272, 'stderr': 0.005343854308797274}},\n",
       " 'eqopp_san_maj_0.005': {'err_stats': {'mean': 0.2394661311397399,\n",
       "   'stderr': 0.005085293686080718},\n",
       "  'fair_stats': {'mean': 0.12801679709594746, 'stderr': 0.004032747428822121}},\n",
       " 'eqopp_san_maj_0.01': {'err_stats': {'mean': 0.24662774857974742,\n",
       "   'stderr': 0.004966753193087623},\n",
       "  'fair_stats': {'mean': 0.10999112124050635, 'stderr': 0.00335882598288021}},\n",
       " 'eqopp_san_maj_0.05': {'err_stats': {'mean': 0.27873906361782674,\n",
       "   'stderr': 0.004251700219861171},\n",
       "  'fair_stats': {'mean': 0.048861876677748606,\n",
       "   'stderr': 0.0016189852228975252}},\n",
       " 'eqopp_san_maj_0.1': {'err_stats': {'mean': 0.3009787296893032,\n",
       "   'stderr': 0.003701358636774348},\n",
       "  'fair_stats': {'mean': 0.02516521969698538,\n",
       "   'stderr': 0.0013160205409204783}},\n",
       " 'eqopp_san_maj_0.2': {'err_stats': {'mean': 0.33228237851539844,\n",
       "   'stderr': 0.003089305446962527},\n",
       "  'fair_stats': {'mean': 0.006903578220611047,\n",
       "   'stderr': 0.0010433489584927146}},\n",
       " 'eqopp_san_maj_0.3': {'err_stats': {'mean': 0.35286496226090075,\n",
       "   'stderr': 0.002621259635512848},\n",
       "  'fair_stats': {'mean': 0.003183619700125425,\n",
       "   'stderr': 0.0007472485249798873}},\n",
       " 'eqopp_san_maj_0.4': {'err_stats': {'mean': 0.3674261553447251,\n",
       "   'stderr': 0.0023086733800063513},\n",
       "  'fair_stats': {'mean': 0.0028056350430462453,\n",
       "   'stderr': 0.0006754289120307332}},\n",
       " 'eqopp_san_maj_0.5': {'err_stats': {'mean': 0.37895612133907786,\n",
       "   'stderr': 0.0020808436069264078},\n",
       "  'fair_stats': {'mean': 0.0022845344733568845,\n",
       "   'stderr': 0.0005020743603215698}}}"
      ]
     },
     "execution_count": 51,
     "metadata": {},
     "output_type": "execute_result"
    }
   ],
   "source": [
    "dict(stats_dict)"
   ]
  },
  {
   "cell_type": "code",
   "execution_count": 52,
   "metadata": {},
   "outputs": [],
   "source": [
    "# np.where(ts_Y.values == 1), np.where(ts_A.values == 1)"
   ]
  },
  {
   "cell_type": "markdown",
   "metadata": {},
   "source": [
    "## Plot the performace"
   ]
  },
  {
   "cell_type": "code",
   "execution_count": 104,
   "metadata": {},
   "outputs": [],
   "source": [
    "import matplotlib\n",
    "import matplotlib.pyplot as plt\n",
    "import seaborn as sns\n",
    "\n",
    "sns.set_theme()"
   ]
  },
  {
   "cell_type": "code",
   "execution_count": 105,
   "metadata": {},
   "outputs": [
    {
     "name": "stdout",
     "output_type": "stream",
     "text": [
      "dp_san_maj_0.001\n",
      "dp_san_maj_0.005\n",
      "dp_san_maj_0.01\n",
      "dp_san_maj_0.05\n",
      "dp_san_maj_0.1\n",
      "dp_san_maj_0.2\n",
      "dp_san_maj_0.3\n",
      "dp_san_maj_0.4\n",
      "dp_san_maj_0.5\n",
      "0\n",
      "eqopp_san_maj_0.001\n",
      "eqopp_san_maj_0.005\n",
      "eqopp_san_maj_0.01\n",
      "eqopp_san_maj_0.05\n",
      "eqopp_san_maj_0.1\n",
      "eqopp_san_maj_0.2\n",
      "eqopp_san_maj_0.3\n",
      "eqopp_san_maj_0.4\n",
      "eqopp_san_maj_0.5\n",
      "1\n"
     ]
    }
   ],
   "source": [
    "dp_eqopp_arr = np.zeros((2, int(len(stats_dict)/2), 2))\n",
    "dp_eqopp_err_arr = np.zeros((2, int(len(stats_dict)/2), 2))\n",
    "\n",
    "idx = 0\n",
    "for criteria in criteria_list:\n",
    "    for majority in majority_list:\n",
    "        for i in range(len(C_list)):\n",
    "            C = C_list[i]\n",
    "            dp_eqopp_arr[idx][i][0] = stats_dict[f\"{criteria}_{majority}_{C}\"][\"err_stats\"][\"mean\"]\n",
    "            dp_eqopp_arr[idx][i][1] = stats_dict[f\"{criteria}_{majority}_{C}\"][\"fair_stats\"][\"mean\"]\n",
    "            \n",
    "            dp_eqopp_err_arr[idx][i][0] = stats_dict[f\"{criteria}_{majority}_{C}\"][\"err_stats\"][\"stderr\"]\n",
    "            dp_eqopp_err_arr[idx][i][1] = stats_dict[f\"{criteria}_{majority}_{C}\"][\"fair_stats\"][\"stderr\"]\n",
    "            print(f\"{criteria}_{majority}_{C}\")\n",
    "    print(idx)\n",
    "    idx += 1"
   ]
  },
  {
   "cell_type": "code",
   "execution_count": 106,
   "metadata": {},
   "outputs": [
    {
     "data": {
      "text/plain": [
       "array([[[0.27546058, 0.0079416 ],\n",
       "        [0.27968454, 0.00652643],\n",
       "        [0.28173704, 0.00719   ],\n",
       "        [0.30252291, 0.00416821],\n",
       "        [0.31377427, 0.00258545],\n",
       "        [0.33606315, 0.00287224],\n",
       "        [0.36152404, 0.00204158],\n",
       "        [0.37751674, 0.00218764],\n",
       "        [0.3963292 , 0.00194053]],\n",
       "\n",
       "       [[0.23105227, 0.14809542],\n",
       "        [0.23946613, 0.1280168 ],\n",
       "        [0.24662775, 0.10999112],\n",
       "        [0.27873906, 0.04886188],\n",
       "        [0.30097873, 0.02516522],\n",
       "        [0.33228238, 0.00690358],\n",
       "        [0.35286496, 0.00318362],\n",
       "        [0.36742616, 0.00280564],\n",
       "        [0.37895612, 0.00228453]]])"
      ]
     },
     "execution_count": 106,
     "metadata": {},
     "output_type": "execute_result"
    }
   ],
   "source": [
    "dp_eqopp_arr"
   ]
  },
  {
   "cell_type": "code",
   "execution_count": 107,
   "metadata": {},
   "outputs": [
    {
     "data": {
      "text/plain": [
       "array([0.00154094, 0.00132727, 0.00129987, 0.00070701, 0.00051013,\n",
       "       0.00051553, 0.00031809, 0.0003607 , 0.00028093])"
      ]
     },
     "execution_count": 107,
     "metadata": {},
     "output_type": "execute_result"
    }
   ],
   "source": [
    "dp_eqopp_err_arr[0,:,1]"
   ]
  },
  {
   "cell_type": "code",
   "execution_count": 112,
   "metadata": {},
   "outputs": [
    {
     "data": {
      "image/png": "[encoded data removed]",
      "text/plain": [
       "<Figure size 432x288 with 1 Axes>"
      ]
     },
     "metadata": {},
     "output_type": "display_data"
    }
   ],
   "source": [
    "fig, ax = plt.subplots()\n",
    "for i in range(dp_eqopp_arr.shape[1]):\n",
    "    ax.errorbar(dp_eqopp_arr[0,i,1], dp_eqopp_arr[0,i,0], xerr=dp_eqopp_err_arr[0,i,1], yerr=dp_eqopp_err_arr[0,i,0], fmt=\"o\", \n",
    "                label=f\"C={C_list[i]}\")\n",
    "ax.set_ylabel('Expected Test Error')\n",
    "ax.set_xlabel('DP Violation')\n",
    "ax.legend()\n",
    "plt.savefig(f\"dp_violation.pdf\", bbox_inches='tight', dpi=300)"
   ]
  },
  {
   "cell_type": "code",
   "execution_count": 113,
   "metadata": {},
   "outputs": [
    {
     "data": {
      "image/png": "[encoded data removed]",
      "text/plain": [
       "<Figure size 432x288 with 1 Axes>"
      ]
     },
     "metadata": {},
     "output_type": "display_data"
    }
   ],
   "source": [
    "fig, ax = plt.subplots()\n",
    "for i in range(dp_eqopp_arr.shape[1]):\n",
    "    ax.errorbar(dp_eqopp_arr[1,i,1], dp_eqopp_arr[1,i,0], xerr=dp_eqopp_err_arr[1,i,1], yerr=dp_eqopp_err_arr[1,i,0], fmt=\"o\", \n",
    "                label=f\"C={C_list[i]}\")\n",
    "ax.set_ylabel('Expected Test Error')\n",
    "ax.set_xlabel('EOpp Violation')\n",
    "ax.legend()\n",
    "plt.savefig(f\"eopp_violation.pdf\", bbox_inches='tight', dpi=300)"
   ]
  },
  {
   "cell_type": "code",
   "execution_count": null,
   "metadata": {},
   "outputs": [],
   "source": []
  }
 ],
 "metadata": {
  "kernelspec": {
   "display_name": "Python 3",
   "language": "python",
   "name": "python3"
  },
  "language_info": {
   "codemirror_mode": {
    "name": "ipython",
    "version": 3
   },
   "file_extension": ".py",
   "mimetype": "text/x-python",
   "name": "python",
   "nbconvert_exporter": "python",
   "pygments_lexer": "ipython3",
   "version": "3.6.10"
  }
 },
 "nbformat": 4,
 "nbformat_minor": 4
}
